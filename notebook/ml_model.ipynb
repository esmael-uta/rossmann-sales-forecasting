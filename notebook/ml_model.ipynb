{
  "cells": [
    {
      "cell_type": "code",
      "execution_count": null,
      "metadata": {
        "id": "3ucQhRO7vbOF"
      },
      "outputs": [],
      "source": [
        "import pandas as pd\n",
        "import numpy as np\n",
        "import joblib\n",
        "from sklearn.preprocessing import StandardScaler\n",
        "from sklearn.compose import ColumnTransformer\n",
        "from sklearn.pipeline import Pipeline\n",
        "from sklearn.preprocessing import OneHotEncoder\n",
        "from sklearn.ensemble import RandomForestRegressor\n",
        "from sklearn.model_selection import train_test_split\n",
        "from sklearn.metrics import mean_squared_error, mean_absolute_error, r2_score, mean_squared_log_error\n",
        "from datetime import datetime"
      ]
    },
    {
      "cell_type": "code",
      "execution_count": null,
      "metadata": {
        "id": "YEu7EUnRvbOH",
        "outputId": "0bbdedc3-cf43-4fb1-9a49-f5114d5dfeaf",
        "colab": {
          "base_uri": "https://localhost:8080/"
        }
      },
      "outputs": [
        {
          "output_type": "stream",
          "name": "stdout",
          "text": [
            "Drive already mounted at /content/drive; to attempt to forcibly remount, call drive.mount(\"/content/drive\", force_remount=True).\n"
          ]
        }
      ],
      "source": [
        "# import driv\n",
        "\n",
        "from google.colab import drive\n",
        "drive.mount('/content/drive')\n"
      ]
    },
    {
      "cell_type": "code",
      "source": [
        "df=pd.read_csv(\"/content/drive/MyDrive/cleaned_df.csv\")"
      ],
      "metadata": {
        "id": "P7b8u-KevrQa"
      },
      "execution_count": null,
      "outputs": []
    },
    {
      "cell_type": "code",
      "source": [
        "df = pd.get_dummies(df, columns=['PromoInterval'])"
      ],
      "metadata": {
        "id": "MFVSxhebzlOL"
      },
      "execution_count": null,
      "outputs": []
    },
    {
      "cell_type": "code",
      "source": [
        "# defining dependent variable\n",
        "dependent_variables = 'Sales'\n",
        "\n",
        "# defining independent variable\n",
        "independent_variables = list(df.columns.drop(['Promo2SinceYear','Date','Sales']))"
      ],
      "metadata": {
        "id": "IM45_P0yysBH"
      },
      "execution_count": null,
      "outputs": []
    },
    {
      "cell_type": "code",
      "source": [
        "#List of Independent Variable\n",
        "independent_variables"
      ],
      "metadata": {
        "id": "sSqW_Q9mzI2F",
        "outputId": "d358334a-6d0e-49e5-8843-e663a654069b",
        "colab": {
          "base_uri": "https://localhost:8080/"
        }
      },
      "execution_count": null,
      "outputs": [
        {
          "output_type": "execute_result",
          "data": {
            "text/plain": [
              "['Store',\n",
              " 'DayOfWeek',\n",
              " 'Customers',\n",
              " 'Open',\n",
              " 'Promo',\n",
              " 'StateHoliday',\n",
              " 'SchoolHoliday',\n",
              " 'StoreType',\n",
              " 'Assortment',\n",
              " 'CompetitionDistance',\n",
              " 'CompetitionOpenSinceMonth',\n",
              " 'CompetitionOpenSinceYear',\n",
              " 'Promo2',\n",
              " 'Promo2SinceWeek',\n",
              " 'PromoInterval_0',\n",
              " 'PromoInterval_Feb,May,Aug,Nov',\n",
              " 'PromoInterval_Jan,Apr,Jul,Oct',\n",
              " 'PromoInterval_Mar,Jun,Sept,Dec']"
            ]
          },
          "metadata": {},
          "execution_count": 29
        }
      ]
    },
    {
      "cell_type": "code",
      "source": [
        "# Create the data of independent variables\n",
        "X = df[independent_variables].values\n",
        "\n",
        "# Create the data of dependent variable\n",
        "y = df[dependent_variables].values"
      ],
      "metadata": {
        "id": "Tk9dIonEzXtu"
      },
      "execution_count": null,
      "outputs": []
    },
    {
      "cell_type": "code",
      "source": [
        "\n",
        "# splitting the dataset\n",
        "X_train, X_test, y_train, y_test = train_test_split(X, y, test_size=0.2, random_state = 0)\n",
        "print(X_train.shape)\n",
        "print(X_test.shape)"
      ],
      "metadata": {
        "id": "jDqQTpZpz1T3",
        "outputId": "f95d5efd-7411-44dc-cc9b-9e77b5528264",
        "colab": {
          "base_uri": "https://localhost:8080/"
        }
      },
      "execution_count": null,
      "outputs": [
        {
          "output_type": "stream",
          "name": "stdout",
          "text": [
            "(813767, 18)\n",
            "(203442, 18)\n"
          ]
        }
      ]
    },
    {
      "cell_type": "code",
      "source": [
        "# Here we Train the model\n",
        "reg = LinearRegression().fit(X_train, y_train)"
      ],
      "metadata": {
        "id": "QXdCyi3Lz7yG"
      },
      "execution_count": null,
      "outputs": []
    },
    {
      "cell_type": "code",
      "source": [
        "#Checking the Regression Score i.e R-squared value\n",
        "reg.score(X_train, y_train)"
      ],
      "metadata": {
        "id": "CL5AiaOL0Gpv",
        "outputId": "279cb5f6-6fa5-464e-fc20-875767c95a79",
        "colab": {
          "base_uri": "https://localhost:8080/"
        }
      },
      "execution_count": null,
      "outputs": [
        {
          "output_type": "execute_result",
          "data": {
            "text/plain": [
              "0.8679206697324997"
            ]
          },
          "metadata": {},
          "execution_count": 33
        }
      ]
    },
    {
      "cell_type": "code",
      "source": [
        "# Checking the cofficient of different independent columns\n",
        "reg.coef_"
      ],
      "metadata": {
        "id": "ZivkETqy0GsV",
        "outputId": "8d4f2a5c-505b-4504-ec2d-8f78532d7646",
        "colab": {
          "base_uri": "https://localhost:8080/"
        }
      },
      "execution_count": null,
      "outputs": [
        {
          "output_type": "execute_result",
          "data": {
            "text/plain": [
              "array([-1.32661173e-01, -6.87369785e+01,  6.29850239e+00,  1.38112319e+03,\n",
              "        1.24770167e+03, -3.76782513e+02,  4.87962432e+01,  2.24825342e+02,\n",
              "        1.87661162e+02,  2.41828369e-02,  2.73113453e+01,  7.05411500e-02,\n",
              "       -3.97995013e+01,  1.04348779e+01,  3.97995013e+01,  2.59182960e+01,\n",
              "        1.13149518e+02, -1.78867315e+02])"
            ]
          },
          "metadata": {},
          "execution_count": 34
        }
      ]
    },
    {
      "cell_type": "code",
      "source": [
        "reg.intercept_"
      ],
      "metadata": {
        "id": "_ZZBnGlQ0Gv6",
        "outputId": "0006a81f-a0ed-415d-aca8-4a79e68545b4",
        "colab": {
          "base_uri": "https://localhost:8080/"
        }
      },
      "execution_count": null,
      "outputs": [
        {
          "output_type": "execute_result",
          "data": {
            "text/plain": [
              "-454.0184460296705"
            ]
          },
          "metadata": {},
          "execution_count": 35
        }
      ]
    },
    {
      "cell_type": "code",
      "source": [
        "#Predicting Dependent Variable With Test Dataset i.e 20%\n",
        "y_pred = reg.predict(X_test)\n",
        "y_pred"
      ],
      "metadata": {
        "id": "YsM--ftn0HYz",
        "outputId": "4f344eeb-6b66-46ab-c3ab-1bac96146c97",
        "colab": {
          "base_uri": "https://localhost:8080/"
        }
      },
      "execution_count": null,
      "outputs": [
        {
          "output_type": "execute_result",
          "data": {
            "text/plain": [
              "array([ 7042.92406502, 12597.30829286,  9190.46998935, ...,\n",
              "        6963.41639908,  5964.7289964 ,  3956.46402394])"
            ]
          },
          "metadata": {},
          "execution_count": 36
        }
      ]
    },
    {
      "cell_type": "code",
      "source": [
        "# Original Test Dependent Value\n",
        "y_test"
      ],
      "metadata": {
        "id": "l7MWsBcI0HcP",
        "outputId": "b6464cb1-1de8-4d38-e6ae-bda0feff84aa",
        "colab": {
          "base_uri": "https://localhost:8080/"
        }
      },
      "execution_count": null,
      "outputs": [
        {
          "output_type": "execute_result",
          "data": {
            "text/plain": [
              "array([7285, 6221, 8132, ..., 6191, 5663, 2698])"
            ]
          },
          "metadata": {},
          "execution_count": 37
        }
      ]
    },
    {
      "cell_type": "code",
      "source": [
        "#Predicting on Train Dataset\n",
        "y_pred_train = reg.predict(X_train)\n",
        "y_pred_train\n"
      ],
      "metadata": {
        "id": "IoAVsvkh0Ekf",
        "outputId": "0681dd45-628b-44c5-88f8-5342cd01ac0f",
        "colab": {
          "base_uri": "https://localhost:8080/"
        }
      },
      "execution_count": null,
      "outputs": [
        {
          "output_type": "execute_result",
          "data": {
            "text/plain": [
              "array([6032.57725724,  489.64293356, 4448.39252875, ..., 7331.14268431,\n",
              "       3131.38510076, 5525.62983862])"
            ]
          },
          "metadata": {},
          "execution_count": 38
        }
      ]
    },
    {
      "cell_type": "code",
      "source": [
        "# Dependent Variable With Train Dataset i.e 80 %\n",
        "y_train"
      ],
      "metadata": {
        "id": "XZUCOmKm00_d",
        "outputId": "567c8d7b-5686-46ac-b4f5-1cb91aa76e7a",
        "colab": {
          "base_uri": "https://localhost:8080/"
        }
      },
      "execution_count": null,
      "outputs": [
        {
          "output_type": "execute_result",
          "data": {
            "text/plain": [
              "array([6394,    0, 5369, ..., 7404, 2864, 5541])"
            ]
          },
          "metadata": {},
          "execution_count": 39
        }
      ]
    },
    {
      "cell_type": "code",
      "source": [
        "#Calculate MSE & RMSE for Test Prediction\n",
        "MSE  = mean_squared_error(y_test, y_pred)\n",
        "print(\"MSE :\" , MSE)\n",
        "\n",
        "RMSE = np.sqrt(MSE)\n",
        "print(\"RMSE :\" ,RMSE)"
      ],
      "metadata": {
        "id": "lJDPO-h708GR",
        "outputId": "0f04d236-3439-47b1-9665-c29d781c3ca0",
        "colab": {
          "base_uri": "https://localhost:8080/"
        }
      },
      "execution_count": null,
      "outputs": [
        {
          "output_type": "stream",
          "name": "stdout",
          "text": [
            "MSE : 1942272.1973863924\n",
            "RMSE : 1393.6542603480939\n"
          ]
        }
      ]
    },
    {
      "cell_type": "code",
      "source": [
        "r2 = r2_score(y_test, y_pred)\n",
        "print(\"R2 :\" ,r2)"
      ],
      "metadata": {
        "id": "txhDj_WY1ACt",
        "outputId": "2aa24985-5aba-4dc9-f05e-bea69284ab07",
        "colab": {
          "base_uri": "https://localhost:8080/"
        }
      },
      "execution_count": null,
      "outputs": [
        {
          "output_type": "stream",
          "name": "stdout",
          "text": [
            "R2 : 0.8685587843488419\n"
          ]
        }
      ]
    },
    {
      "cell_type": "code",
      "source": [],
      "metadata": {
        "id": "WDqddaCf2Zqx"
      },
      "execution_count": null,
      "outputs": []
    }
  ],
  "metadata": {
    "kernelspec": {
      "display_name": "Python 3",
      "language": "python",
      "name": "python3"
    },
    "language_info": {
      "codemirror_mode": {
        "name": "ipython",
        "version": 3
      },
      "file_extension": ".py",
      "mimetype": "text/x-python",
      "name": "python",
      "nbconvert_exporter": "python",
      "pygments_lexer": "ipython3",
      "version": "3.12.1"
    },
    "colab": {
      "provenance": []
    }
  },
  "nbformat": 4,
  "nbformat_minor": 0
}